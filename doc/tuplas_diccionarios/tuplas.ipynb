{
 "cells": [
  {
   "cell_type": "markdown",
   "metadata": {},
   "source": [
    "# Tuplas\n",
    "\n",
    "Colección ordenada e inmutable de elememtos, similar a una lista pero que una vez creada no se puede modificar.\n",
    "\n",
    "- Son más rápidas que las listas en operaciones de acceso y creación\n",
    "- Más seguras \n",
    "- Admite elementos de diferentes tipos\n",
    "- También pueden hacerse tuplas de una tupla\n",
    "- Permiten duplicados\n",
    "\n",
    "## Sintaxis\n",
    "\n",
    "tupla = ()\n",
    "tupla = (x,) --> Para guardar solo un elemento\n",
    "tupla = (x, x, x) --> Varios elementos (separar por comas)\n",
    "tupla_anidad = ((1, 2, 3), (4, 5, 6)) --> Se sigue lo de la coma, se estan separando dos tuplas\n",
    "\n",
    "\n",
    "## Modificaciones\n",
    "\n",
    "Si bien las tuplas no son modificables, si la tupla contiene objetos mutables si podemos modificar ese objeto\n",
    "\n"
   ]
  },
  {
   "cell_type": "code",
   "execution_count": null,
   "metadata": {},
   "outputs": [
    {
     "name": "stdout",
     "output_type": "stream",
     "text": [
      "<class 'int'>\n",
      "<class 'tuple'>\n",
      "(1, 2, (3, 4), 5)\n",
      "(3, 4)\n",
      "4\n"
     ]
    }
   ],
   "source": [
    "tupla_vacia = ()\n",
    "tupla_numeros = (1,2,3,4,5)\n",
    "\n",
    "una_tupla = (1)\n",
    "print(type(una_tupla)) # int\n",
    "una_tupla = (1,)\n",
    "print(type(una_tupla)) # tuple\n",
    "\n",
    "tupla_mixta = (1, \"Hola\", 3.14, True)\n",
    "tupla_anidada = (1, 2, (3, 4), 5)\n",
    "print(tupla_anidada)\n",
    "print(tupla_anidada[2]) # (3, 4)\n",
    "print(tupla_anidada[2][1]) # 4\n",
    "\n"
   ]
  },
  {
   "cell_type": "markdown",
   "metadata": {},
   "source": [
    "## Funcion tupla\n",
    "\n",
    "tupla = tuple(\"Python\")\n",
    "\n",
    "## Acceder a los elementos\n",
    "tuple = (1,2,3,)\n",
    "tuple [1] = 2\n",
    "\n",
    "## Métodos de tuplas\n",
    "\n",
    "tuple.index (\"c\")\n",
    "tuple.count (\"a\")"
   ]
  },
  {
   "cell_type": "code",
   "execution_count": null,
   "metadata": {},
   "outputs": [
    {
     "name": "stdout",
     "output_type": "stream",
     "text": [
      "(1, 2, 3)\n",
      "2\n"
     ]
    }
   ],
   "source": [
    "tuple_desde_lista = tuple([1, 2, 3])\n",
    "print(tuple_desde_lista) # (1, 2, 3)\n",
    "\n",
    "tupla = (1, 2, 3)\n",
    "print(tupla [1]) # 2\n",
    "print(tupla [-1]) # 3"
   ]
  },
  {
   "cell_type": "markdown",
   "metadata": {},
   "source": [
    "## Slicing de tuplas\n",
    "\n",
    "tupla [primer elemento: ultimo elemeto:paso]"
   ]
  },
  {
   "cell_type": "code",
   "execution_count": 5,
   "metadata": {},
   "outputs": [
    {
     "name": "stdout",
     "output_type": "stream",
     "text": [
      "(1, 2, 3)\n",
      "(4, 5, 6)\n",
      "(1, 3, 5, 7, 9)\n",
      "(10, 9, 8, 7, 6, 5, 4, 3, 2, 1)\n"
     ]
    }
   ],
   "source": [
    "tupla = (1, 2, 3,4,5,6,7,8,9,10)\n",
    "print(tupla[0:3]) # (1, 2, 3)\n",
    "print (tupla[3:6]) # (4, 5, 6, 7, 8, 9, 10)\n",
    "print(tupla[::2]) # (1, 3, 5, 7, 9)\n",
    "print(tupla[::-1]) # (10, 9, 8, 7, 6, 5, 4, 3, 2, 1)"
   ]
  },
  {
   "cell_type": "markdown",
   "metadata": {},
   "source": [
    "## Comprensión de tuplas\n",
    "\n",
    "No existe como tal pero se puede simular con la función tuple\n",
    "\n",
    "x = tuple (resultado ciclo y condicional)\n",
    "\n",
    "- Toma el genrador y el resultado lo adigna a una tupla\n",
    "\n",
    "## Generadores\n",
    "\n",
    "Objetos iterales "
   ]
  },
  {
   "cell_type": "code",
   "execution_count": null,
   "metadata": {},
   "outputs": [],
   "source": [
    "cuadrados = [x**2 for x in range(10)]\n",
    "print(cuadrados) # [0, 1, 4, 9, 16, 25, 36, 49, 64, 81]\n",
    "\n",
    "cuadrados = (x**2 for x in range(10))\n",
    "print(cuadrados) # <generator object <genexpr> at 0x7f8c1c0e2f90>\n",
    "\n",
    "cuadrados = tuple(x**2 for x in range(10))\n",
    "print(cuadrados) # (0, 1, 4, 9, 16, 25, 36, 49, 64, 81)"
   ]
  },
  {
   "cell_type": "code",
   "execution_count": null,
   "metadata": {},
   "outputs": [
    {
     "name": "stdout",
     "output_type": "stream",
     "text": [
      "A T G C G T A G C "
     ]
    }
   ],
   "source": [
    "# Ejercicio 1\n",
    "\n",
    "## Convertir una secuencia a tupla\n",
    "\n",
    "secuencia = (\"ATGCGTAGC\")\n",
    "sequences = tuple(secuencia)\n",
    "\n",
    "## Recorrer la secuencia\n",
    "for base in sequences:\n",
    "    print(base + \" \", end=\"\")\n"
   ]
  },
  {
   "cell_type": "code",
   "execution_count": 9,
   "metadata": {},
   "outputs": [
    {
     "name": "stdout",
     "output_type": "stream",
     "text": [
      "('A', 'T', 'G', 'C', 'G')\n",
      "('A', 'G', 'C')\n",
      "('C', 'G', 'A', 'T', 'G', 'C', 'G', 'T', 'A')\n"
     ]
    }
   ],
   "source": [
    "# Ejercicio 2\n",
    "\n",
    "## Extrarr fragmentos de la secuencia\n",
    "secuencia = tuple(\"ATGCGTAGC\")\n",
    "\n",
    "## Los primeros 5\n",
    "print(secuencia[:5]) # ('A', 'T', 'G', 'C', 'G')\n",
    "\n",
    "## Los últimos 3\n",
    "print(secuencia[-3:]) # ('G', 'A', 'C')\n",
    "\n",
    "## La secuencia invertida\n",
    "print(secuencia[::-1]) # ('C', 'G', 'T', 'G', 'C', 'A', 'T', 'G', 'A')"
   ]
  },
  {
   "cell_type": "code",
   "execution_count": null,
   "metadata": {},
   "outputs": [
    {
     "name": "stdout",
     "output_type": "stream",
     "text": [
      "Frecuencia de A:  2\n",
      "Frecuencia de T:  2\n",
      "Frecuencia de C:  2\n",
      "Frecuencia de G:  3\n",
      "[('A', 2), ('T', 2), ('C', 2), ('G', 3)]\n"
     ]
    }
   ],
   "source": [
    "# Ejercicio 3\n",
    "\n",
    "#Contar frecuencias de bases\n",
    "secuencia = tuple(\"ATGCGTAGC\")\n",
    "\n",
    "## Frecuencias\n",
    "\n",
    "frec_A = secuencia.count(\"A\")\n",
    "frec_T = secuencia.count(\"T\")\n",
    "frec_C = secuencia.count(\"C\")\n",
    "frec_G = secuencia.count(\"G\")\n",
    "\n",
    "## Imprimir sequencias\n",
    "print(\"Frecuencia de A: \", frec_A)\n",
    "print(\"Frecuencia de T: \", frec_T)\n",
    "print(\"Frecuencia de C: \", frec_C)\n",
    "print(\"Frecuencia de G: \", frec_G)\n",
    "\n",
    "\n",
    "## Alternativa\n",
    "\n",
    "bases = list (\"ATCG\")\n",
    "frecuencias = [(base, secuencia.count(base)) for base in bases]\n",
    "print(frecuencias) # [('A', 3), ('T', 2), ('C', 2), ('G', 2)]\n"
   ]
  },
  {
   "cell_type": "code",
   "execution_count": null,
   "metadata": {},
   "outputs": [],
   "source": [
    "# ejercicio 4\n",
    "# Filtrar bases validas\n",
    "\n",
    "bases_validas = (\"A\", \"T\", \"C\", \"G\")\n",
    "secuencia = tuple(input(\"Introduce una secuencia de ADN: \"))\n",
    "\n",
    "# Secuencia filtrada\n",
    "secuencia_filtrada = tuple (base for base in secuencia if base in bases_validas)\n",
    "print(\"Secuencia filtrada: \", secuencia_filtrada)"
   ]
  },
  {
   "cell_type": "code",
   "execution_count": null,
   "metadata": {},
   "outputs": [
    {
     "name": "stdout",
     "output_type": "stream",
     "text": [
      "Codones:  (['A', 'T', 'G'], ['C', 'T', 'C'], ['G', 'T', 'A'], ['A', 'a'])\n"
     ]
    }
   ],
   "source": [
    "# ejercicio 5\n",
    "#Dada una secuencia de DNA dividirla en codones\n",
    "\n",
    "secuencia = list(input(\"Introduce una secuencia de ADN: \").upper())\n",
    "codones = tuple(secuencia [i:i+3] for i in range(0, len(secuencia), 3))\n",
    "print(\"Codones: \", codones)\n"
   ]
  },
  {
   "cell_type": "code",
   "execution_count": 17,
   "metadata": {},
   "outputs": [
    {
     "name": "stdout",
     "output_type": "stream",
     "text": [
      "Secuencia de RNA:  ('G', 'C', 'U', 'C', 'U', 'C', 'G', 'A', 'C', 'U', 'A')\n"
     ]
    }
   ],
   "source": [
    "# ejercicio 6\n",
    "# DNA a RNA\n",
    "secuencia = list(input(\"Introduce una secuencia de ADN: \").upper())\n",
    "\n",
    "#Convertir a RNA\n",
    "secuencia_rna = tuple(base.replace(\"T\", \"U\") for base in secuencia)\n",
    "print(\"Secuencia de RNA: \", secuencia_rna)"
   ]
  },
  {
   "cell_type": "code",
   "execution_count": null,
   "metadata": {},
   "outputs": [],
   "source": []
  }
 ],
 "metadata": {
  "kernelspec": {
   "display_name": "Python 3",
   "language": "python",
   "name": "python3"
  },
  "language_info": {
   "codemirror_mode": {
    "name": "ipython",
    "version": 3
   },
   "file_extension": ".py",
   "mimetype": "text/x-python",
   "name": "python",
   "nbconvert_exporter": "python",
   "pygments_lexer": "ipython3",
   "version": "3.13.2"
  }
 },
 "nbformat": 4,
 "nbformat_minor": 2
}
