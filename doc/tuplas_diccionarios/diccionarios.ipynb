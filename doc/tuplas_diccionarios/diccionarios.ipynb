{
 "cells": [
  {
   "cell_type": "markdown",
   "metadata": {},
   "source": [
    "# Diccionarios\n",
    "\n",
    "Se usan para representar datos asociados mediante una relación clave-valor, como un gen y su función, o un ID y su secuencia\n",
    "Es una colección desordenada, mutable e indexada por claves únicas, no por su posición\n",
    "\n",
    "## Sintaxis\n",
    "\n",
    "diccionario_vacio = {}\n",
    "gen = {\n",
    "    nombre : \"lacZ\"\n",
    "    longitud : 1200\n",
    "    producto : Galactosidasa\n",
    "}\n",
    "\n",
    "- las claves son única e inmutables (str, int, float, tupple)\n",
    "- No tienen orden (Conserva el orden de inserción)\n",
    "- Se accede mediante clave \n",
    "- Valores mutables o inmutables\n",
    "\n",
    "## Función dict\n",
    "\n",
    "Se usa para crear diccionarios\n",
    "gen = dict(nombre=\"lacZ\", longitud=1200, producto=\"β-galactosidasa\")\n",
    "\n",
    "- También se puede usar para convertir pares de listas o tuplas\n",
    "\n",
    "pares = [(\"A\", 2), (\"T\", 3)]\n",
    "diccionario = dict(pares) "
   ]
  },
  {
   "cell_type": "code",
   "execution_count": 1,
   "metadata": {},
   "outputs": [
    {
     "data": {
      "text/plain": [
       "{'A': 2, 'T': 3}"
      ]
     },
     "execution_count": 1,
     "metadata": {},
     "output_type": "execute_result"
    }
   ],
   "source": [
    "diccionario_vacio = {}\n",
    "gen = {\n",
    "    \"nombre\": \"lacZ\",\n",
    "    \"longitud\": 1200,\n",
    "    \"producto\": \"β-galactosidasa\"\n",
    "}\n",
    "\n",
    "pares = [(\"A\", 2), (\"T\", 3)]\n",
    "diccionario = dict(pares)\n",
    "diccionario"
   ]
  },
  {
   "cell_type": "markdown",
   "metadata": {},
   "source": [
    "## Acceso y modificación de elementos\n",
    "\n",
    "- Acceder a un valor por la clave\n",
    "    dicc [\"key\"]\n",
    "- Ageragr o modificar valores\n",
    "    dicc [\"key\"] = \"value\"\n",
    "- Eliminar elementos\n",
    "    del dicc[\"key\"]\n",
    "\n",
    "\n",
    "## Métodos\n",
    "\n",
    "- .get(key): Devuelve el valor asociado a la key, none si no hay un valor asociadp\n",
    "- .key(): Devuelve una lista con las keys del diccionario\n",
    "- .values Devuelve una lista con los valores del diccionario\n",
    "- .items Devulve una vista de pares (key,value) del diccionario\n",
    "- .pop (key): Elimina y retorna el valor asociado a la clave\n",
    "- .update (dict2): Agrega o actualiza pares key-value desde otro diccionario\n",
    "- .clear: Elimina todos los elementos del diccionario\n",
    "\n",
    "## Recorrer diccionario\n",
    "\n",
    "for clave in dicc\n",
    "    print (clave,dicc[clave])"
   ]
  },
  {
   "cell_type": "code",
   "execution_count": 2,
   "metadata": {},
   "outputs": [
    {
     "name": "stdout",
     "output_type": "stream",
     "text": [
      "nombre : lacZ\n",
      "longitud : 1200\n",
      "producto : β-galactosidasa\n",
      "nombre : lacZ\n",
      "longitud : 1200\n",
      "producto : β-galactosidasa\n"
     ]
    }
   ],
   "source": [
    "gen = dict(nombre=\"lacZ\", longitud=1200, producto=\"β-galactosidasa\")\n",
    "\n",
    "for clave in gen:\n",
    "    print(clave, \":\", gen[clave])\n",
    "\n",
    "for clave, valor in gen.items():\n",
    "    print(clave, \":\", valor)\n",
    "    "
   ]
  },
  {
   "cell_type": "markdown",
   "metadata": {},
   "source": [
    "## Diccionarios anidados \n",
    "\n",
    "Un llave tiene asociada un diccionarios\n",
    "\n",
    "- Seleccionar bien las llabes "
   ]
  },
  {
   "cell_type": "code",
   "execution_count": 3,
   "metadata": {},
   "outputs": [
    {
     "name": "stdout",
     "output_type": "stream",
     "text": [
      "β-galactosidasa\n"
     ]
    }
   ],
   "source": [
    "genes = {\n",
    "    \"lacZ\": {\"producto\": \"β-galactosidasa\", \"longitud\": 1200},\n",
    "    \"lacY\": {\"producto\": \"permeasa\", \"longitud\": 1050}\n",
    "}\n",
    "\n",
    "print(genes[\"lacZ\"][\"producto\"])  # β-galactosidasa"
   ]
  },
  {
   "cell_type": "markdown",
   "metadata": {},
   "source": [
    "## Compresión de diccionarios\n",
    "\n",
    "{clave: valor for elemento in iterable if condición}\n"
   ]
  },
  {
   "cell_type": "code",
   "execution_count": null,
   "metadata": {},
   "outputs": [],
   "source": [
    "cuadrados = {x: x**2 for x in range(5)}\n",
    "print(cuadrados)  # {0: 0, 1: 1, 2: 4, 3: 9, 4: 16}"
   ]
  }
 ],
 "metadata": {
  "kernelspec": {
   "display_name": "Python 3",
   "language": "python",
   "name": "python3"
  },
  "language_info": {
   "codemirror_mode": {
    "name": "ipython",
    "version": 3
   },
   "file_extension": ".py",
   "mimetype": "text/x-python",
   "name": "python",
   "nbconvert_exporter": "python",
   "pygments_lexer": "ipython3",
   "version": "3.13.2"
  }
 },
 "nbformat": 4,
 "nbformat_minor": 2
}
