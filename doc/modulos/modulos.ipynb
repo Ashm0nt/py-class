{
 "cells": [
  {
   "cell_type": "markdown",
   "id": "cd8de0df",
   "metadata": {},
   "source": [
    "# Modulos y paquetes\n",
    "\n",
    "## Built-in\n",
    "Funciones integradas (built-in functions). Son herramietas básicas que permiten realizar funciones comunes, como contar, convertir tipos, imprimir etc\n",
    "\n",
    "## Conceptos\n",
    "\n",
    "- import: Instrucción de carga de archivos\n",
    "- modulo: Archivos .py con funciones\n",
    "- Paquetes: Carpeta con varios modulos\n",
    "\n",
    "## Oragnización\n",
    "\n",
    "- Built-in\n",
    "- Librería estándar: math, os, log\n",
    "- Librería externa: pandas, biopython\n",
    "- Modulos propios\n",
    "- Paquetes propios\n",
    "\n",
    "## Orden de busqueda\n",
    "\n",
    "1. Directorio actual\n",
    "2. Variables de entorno\n",
    "3. Librería estandar de Python\n",
    "4. Librerías externas \n"
   ]
  },
  {
   "cell_type": "markdown",
   "id": "ff020a32",
   "metadata": {},
   "source": [
    "### Import\n",
    "\n",
    "1. Busca el módulo o líbrería por nombre\n",
    "2. Carga el módulo \n",
    "3. Guarda el módulo en caché\n",
    "4. Vincula al nombre usado\n",
    "\n",
    "\n",
    "#### Usos\n",
    "\n",
    "- import modulo: Extrae todas las funciones dentro del modulo\n",
    "- import modulos as alias: Un nombre corto\n",
    "- from modulo import objeto: Importa solo una parte del módulo\n",
    "- from modulo import objeto as: \n",
    "- from modulo import * : Importa todo el contenido al espacio de nombres actual, problemas con nombres \n",
    "- from paquete.modulo import x"
   ]
  },
  {
   "cell_type": "code",
   "execution_count": null,
   "id": "d412b6b5",
   "metadata": {},
   "outputs": [
    {
     "name": "stdout",
     "output_type": "stream",
     "text": [
      "7.0\n",
      "/Users/ashleyyaelmontielvargas/Desktop/clases/py-class/doc/modulos\n"
     ]
    }
   ],
   "source": [
    "import math\n",
    "import os\n",
    "\n",
    "import numpy as np\n",
    "\n",
    "print(math.sqrt(49))\n",
    "print(os.getcwd())\n",
    "\n",
    "arreglo = np.array([1,2,3])"
   ]
  },
  {
   "cell_type": "markdown",
   "id": "9ea3c4d5",
   "metadata": {},
   "source": [
    "### sys.path\n",
    "\n",
    "Solo se hace uso durante el desarrollo\n",
    "\n",
    "### Encapsulación\n",
    "\n",
    "Se encpasula el flujo de dentro de una funcion main() y se protege con \n",
    "\n",
    "```python\n",
    "if __name__ = \"__main__\"\n",
    "    main()\n",
    "```\n",
    "\n",
    "__name__ es una variable especial incorporada en cada archivo que se ejecuta o importa, su valor depende del contexto en el quese está ejecutando el archivo\n",
    "\n"
   ]
  }
 ],
 "metadata": {
  "kernelspec": {
   "display_name": "Python 3",
   "language": "python",
   "name": "python3"
  },
  "language_info": {
   "codemirror_mode": {
    "name": "ipython",
    "version": 3
   },
   "file_extension": ".py",
   "mimetype": "text/x-python",
   "name": "python",
   "nbconvert_exporter": "python",
   "pygments_lexer": "ipython3",
   "version": "3.13.2"
  }
 },
 "nbformat": 4,
 "nbformat_minor": 5
}
