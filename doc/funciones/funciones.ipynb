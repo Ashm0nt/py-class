{
 "cells": [
  {
   "cell_type": "markdown",
   "id": "4f7ac137",
   "metadata": {},
   "source": [
    "# Funciones\n",
    "\n",
    "- Permite organizar y modularizar el código y evitar el código spaguetti\n",
    "- Dividir un problema complejo en pequeñas partes\n",
    "- Reutilizar código\n",
    "- Hacer pruebas más eficientemente y mantenimiento\n",
    "\n"
   ]
  },
  {
   "cell_type": "code",
   "execution_count": null,
   "id": "25299cb0",
   "metadata": {},
   "outputs": [],
   "source": [
    "#Calcular el contenido GC\n",
    "\n",
    "def contenido_gc(seq):\n",
    "    gc_cont = (seq.count('G') + seq.count('C')) / len(seq) * 100\n",
    "\n",
    "seq = input(\"Ingrese la secuencia\").upper()\n",
    "print (f\"contenido GC: {(contenido_gc(seq))}\")\n"
   ]
  },
  {
   "cell_type": "markdown",
   "id": "6dd4a623",
   "metadata": {},
   "source": [
    "Las funciones deben ser llamadas. Python no ejecuta el codigo de la función hasta que es invocada"
   ]
  },
  {
   "cell_type": "code",
   "execution_count": 1,
   "id": "6ef81089",
   "metadata": {},
   "outputs": [
    {
     "name": "stdout",
     "output_type": "stream",
     "text": [
      "Hola\n"
     ]
    }
   ],
   "source": [
    "def di_hola():\n",
    "    print (\"Hola\")\n",
    "    \n",
    "di_hola()"
   ]
  },
  {
   "cell_type": "markdown",
   "id": "f2d775be",
   "metadata": {},
   "source": [
    "## Funciones con parametro\n",
    "\n",
    "Una función que puede recibir información de entrada (parámetro) y usarla para personalizar su comportamiento\n",
    "\n",
    "## Paso de argumentos\n",
    "\n",
    "- Por posición: \n",
    "        def func (valor1, valor2):\n",
    "        func(valor1, valor2)\n",
    "        Si se intercambia ya valio\n",
    "\n",
    "- Por nombre: def funcion: \n",
    "        def func (valor1 = x, valor2= y):\n",
    "        func(valor2 = y, valor1 = x)\n"
   ]
  },
  {
   "cell_type": "code",
   "execution_count": 3,
   "id": "8564ef18",
   "metadata": {},
   "outputs": [
    {
     "name": "stdout",
     "output_type": "stream",
     "text": [
      "Hola YAEL\n"
     ]
    }
   ],
   "source": [
    "def di_hola (nombre):\n",
    "    print (f\"Hola {nombre}\")\n",
    "\n",
    "nombre = input(\"Ingresa un nombre\")\n",
    "di_hola(nombre)"
   ]
  },
  {
   "cell_type": "markdown",
   "id": "73c23f10",
   "metadata": {},
   "source": [
    "## Funciones con múltiples parámetros\n",
    "\n",
    "Una funci+on puede aceptar más de un parámetro y retornar un valor que luego puede imprimirse\n",
    "- def funcion (valor1, valor2)\n",
    "- Return\n",
    "\n",
    "### Parametro\n",
    "Es una variable definida en la función. Es el espacio reservado que recibirá. En la definición\n",
    "\n",
    "### Argumentos\n",
    "A la hora de la invocación, es el valor real\n",
    "\n",
    "Si se va a hacer un mix de argumentos:\n",
    "\n",
    "1. Los primeros deben ser posicionales\n",
    "2. Después se pueden poner los argumentos con nombre"
   ]
  },
  {
   "cell_type": "code",
   "execution_count": null,
   "id": "36c4b722",
   "metadata": {},
   "outputs": [],
   "source": [
    "def multiplica (valor1, valor2):\n",
    "    return valor1 * valor2\n",
    "\n",
    "valor1 = input(\"valor 1: \")\n",
    "valor2 = input(\"valor 2: \")\n",
    "\n",
    "resultado = multiplica(valor1, valor2)\n",
    "\n",
    "print (resultado)"
   ]
  },
  {
   "cell_type": "code",
   "execution_count": null,
   "id": "48918da6",
   "metadata": {},
   "outputs": [
    {
     "name": "stdout",
     "output_type": "stream",
     "text": [
      " AT content is: 0.5\n"
     ]
    }
   ],
   "source": [
    "#Refactorización del codigo, contenido de AT\n",
    "\n",
    "def at_content (my_dna):\n",
    "    lenght = len(my_dna)\n",
    "    a_cont = my_dna.count('A')\n",
    "    t_cont = my_dna.count('T')\n",
    "    at_content = (a_cont + t_cont) / lenght\n",
    "\n",
    "    print (f\" AT content is: {at_content}\")\n",
    "\n",
    "my_dna =  input(\"Ingrese una secuencia\").upper()\n",
    "at_content (my_dna)"
   ]
  },
  {
   "cell_type": "code",
   "execution_count": null,
   "id": "6caf73de",
   "metadata": {},
   "outputs": [],
   "source": [
    "#Conteo de bases de una secuencia de DNA\n",
    "\n",
    "def cont_bases (seq):\n",
    "    bases = 'ATCG'\n",
    "    for base in bases:\n",
    "        num_bases = seq.count(bases)\n",
    "        print(f\"{base}: {num_bases}\")\n",
    "\n",
    "seq = input(\"Ingresa una secuencia:\").upper()\n",
    "cont_bases(seq)"
   ]
  },
  {
   "cell_type": "markdown",
   "id": "5b2f2ef5",
   "metadata": {},
   "source": [
    "### Imprimir o retornar\n",
    "\n",
    "Depende lo que haga la función. Las funciones deben ser tarea específicas\n",
    "\n",
    "- No imprimir resultados dentro de funciones, a menos que su funcionalidad sea imprimir\n",
    "- Return es más flexible "
   ]
  },
  {
   "cell_type": "markdown",
   "id": "365e9537",
   "metadata": {},
   "source": [
    "# Scope (Ámbitos)\n",
    "\n",
    "- Local\n",
    "- Global\n",
    "\n",
    "Python hace el scope:\n",
    "\n",
    "1. Variables dentro de la función local\n",
    "2. Enclosing: Funciones anidadas\n",
    "3. Global\n",
    "4. Built-in: Funciones internas de python"
   ]
  },
  {
   "cell_type": "code",
   "execution_count": null,
   "id": "ae63e72d",
   "metadata": {},
   "outputs": [
    {
     "ename": "SyntaxError",
     "evalue": "invalid syntax. Perhaps you forgot a comma? (1425955515.py, line 5)",
     "output_type": "error",
     "traceback": [
      "  \u001b[36mCell\u001b[39m\u001b[36m \u001b[39m\u001b[32mIn[5]\u001b[39m\u001b[32m, line 5\u001b[39m\n\u001b[31m    \u001b[39m\u001b[31m'A' : dna.count('A')\u001b[39m\n          ^\n\u001b[31mSyntaxError\u001b[39m\u001b[31m:\u001b[39m invalid syntax. Perhaps you forgot a comma?\n"
     ]
    }
   ],
   "source": [
    "#Conteo de bases con diccionario\n",
    "\n",
    "def count_bases (dna, sig_figs):\n",
    "    conteo = {\n",
    "        'A' : dna.count('A'),\n",
    "        'T' : dna.count('T'),\n",
    "        'G' : dna.count('G'),\n",
    "        'C' : dna.count('C')\n",
    "    }\n",
    "\n",
    "    return conteo\n",
    "\n",
    "dna = input(\"Ingrese una secuencia: \").upper()\n",
    "resultado = count_bases (dna)"
   ]
  },
  {
   "cell_type": "code",
   "execution_count": null,
   "id": "83b727ce",
   "metadata": {},
   "outputs": [
    {
     "data": {
      "text/plain": [
       "0.9"
      ]
     },
     "execution_count": 7,
     "metadata": {},
     "output_type": "execute_result"
    }
   ],
   "source": [
    "#AT content y el paso de parametros\n",
    "def at_content (my_dna, sig_figs):\n",
    "    lenght = len(my_dna)\n",
    "    a_cont = my_dna.count('A')\n",
    "    t_cont = my_dna.count('T')\n",
    "    at_content = (a_cont + t_cont) / lenght\n",
    "    return round(at_content, sig_figs)\n",
    "\n",
    "dna =  input(\"Ingrese una secuencia\").upper()\n",
    "at_content (sig_figs = 1, my_dna = dna)"
   ]
  }
 ],
 "metadata": {
  "kernelspec": {
   "display_name": "Python 3",
   "language": "python",
   "name": "python3"
  },
  "language_info": {
   "codemirror_mode": {
    "name": "ipython",
    "version": 3
   },
   "file_extension": ".py",
   "mimetype": "text/x-python",
   "name": "python",
   "nbconvert_exporter": "python",
   "pygments_lexer": "ipython3",
   "version": "3.13.2"
  }
 },
 "nbformat": 4,
 "nbformat_minor": 5
}
