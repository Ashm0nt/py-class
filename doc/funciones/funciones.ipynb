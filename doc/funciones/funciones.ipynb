{
 "cells": [
  {
   "cell_type": "markdown",
   "id": "4f7ac137",
   "metadata": {},
   "source": [
    "# Funciones\n",
    "\n",
    "- Permite organizar y modularizar el código y evitar el código spaguetti\n",
    "- Dividir un problema complejo en pequeñas partes\n",
    "- Reutilizar código\n",
    "- Hacer pruebas más eficientemente y mantenimiento\n",
    "\n"
   ]
  },
  {
   "cell_type": "code",
   "execution_count": null,
   "id": "25299cb0",
   "metadata": {},
   "outputs": [],
   "source": [
    "#Calcular el contenido GC\n",
    "\n",
    "def contenido_gc(seq):\n",
    "    gc_cont = (seq.count('G') + seq.count('C')) / len(seq) * 100\n",
    "\n",
    "seq = input(\"Ingrese la secuencia\").upper()\n",
    "print (f\"contenido GC: {(contenido_gc(seq))}\")\n"
   ]
  }
 ],
 "metadata": {
  "language_info": {
   "name": "python"
  }
 },
 "nbformat": 4,
 "nbformat_minor": 5
}
