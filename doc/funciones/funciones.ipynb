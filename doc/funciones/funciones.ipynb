{
 "cells": [
  {
   "cell_type": "markdown",
   "id": "4f7ac137",
   "metadata": {},
   "source": [
    "# Funciones\n",
    "\n",
    "- Permite organizar y modularizar el código y evitar el código spaguetti\n",
    "- Dividir un problema complejo en pequeñas partes\n",
    "- Reutilizar código\n",
    "- Hacer pruebas más eficientemente y mantenimiento\n",
    "\n"
   ]
  },
  {
   "cell_type": "code",
   "execution_count": null,
   "id": "25299cb0",
   "metadata": {},
   "outputs": [],
   "source": [
    "#Calcular el contenido GC\n",
    "\n",
    "def contenido_gc(seq):\n",
    "    gc_cont = (seq.count('G') + seq.count('C')) / len(seq) * 100\n",
    "\n",
    "seq = input(\"Ingrese la secuencia\").upper()\n",
    "print (f\"contenido GC: {(contenido_gc(seq))}\")\n"
   ]
  },
  {
   "cell_type": "code",
   "execution_count": 1,
   "id": "6ef81089",
   "metadata": {},
   "outputs": [
    {
     "name": "stdout",
     "output_type": "stream",
     "text": [
      "Hola\n"
     ]
    }
   ],
   "source": [
    "def di_hola():\n",
    "    print (\"Hola\")\n",
    "    \n",
    "di_hola()"
   ]
  },
  {
   "cell_type": "markdown",
   "id": "f2d775be",
   "metadata": {},
   "source": [
    "## Funciones con parametro\n",
    "\n",
    "Una función que puede recibir información de entrada (parámetro) y usarla para personalizar su comportamiento"
   ]
  },
  {
   "cell_type": "code",
   "execution_count": 3,
   "id": "8564ef18",
   "metadata": {},
   "outputs": [
    {
     "name": "stdout",
     "output_type": "stream",
     "text": [
      "Hola YAEL\n"
     ]
    }
   ],
   "source": [
    "def di_hola (nombre):\n",
    "    print (f\"Hola {nombre}\")\n",
    "\n",
    "nombre = input(\"Ingresa un nombre\")\n",
    "di_hola(nombre)"
   ]
  },
  {
   "cell_type": "markdown",
   "id": "73c23f10",
   "metadata": {},
   "source": [
    "## Funciones con múltiples parámetros\n",
    "\n",
    "Una funci+on puede aceptar más de un parámetro y retornar un valor que luego puede imprimirse\n",
    "- def funcion (valor1, valor2)\n",
    "- Return\n",
    "\n",
    "### Parametro\n",
    "Es una variable definida en la función. Es el espacio reservado que recibirá. En la definición\n",
    "\n",
    "### Argumentos\n",
    "A la hora de la invocación, es el valor real"
   ]
  },
  {
   "cell_type": "code",
   "execution_count": null,
   "id": "36c4b722",
   "metadata": {},
   "outputs": [],
   "source": [
    "def multiplica (valor1, valor2):\n",
    "    return valor1 * valor2\n",
    "\n",
    "valor1 = input(\"valor 1: \")\n",
    "valor2 = input(\"valor 2: \")\n",
    "\n",
    "resultado = multiplica(valor1, valor2)\n",
    "\n",
    "print (resultado)"
   ]
  }
 ],
 "metadata": {
  "kernelspec": {
   "display_name": "Python 3",
   "language": "python",
   "name": "python3"
  },
  "language_info": {
   "codemirror_mode": {
    "name": "ipython",
    "version": 3
   },
   "file_extension": ".py",
   "mimetype": "text/x-python",
   "name": "python",
   "nbconvert_exporter": "python",
   "pygments_lexer": "ipython3",
   "version": "3.13.2"
  }
 },
 "nbformat": 4,
 "nbformat_minor": 5
}
